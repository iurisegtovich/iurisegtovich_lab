{
 "cells": [
  {
   "cell_type": "code",
   "execution_count": 11,
   "metadata": {},
   "outputs": [],
   "source": [
    "import numpy as np\n",
    "from matplotlib import pyplot as plt\n",
    "%matplotlib inline\n",
    "plt.rcParams[\"font.family\"] = \"dejavu serif\""
   ]
  },
  {
   "cell_type": "code",
   "execution_count": 113,
   "metadata": {},
   "outputs": [
    {
     "name": "stdout",
     "output_type": "stream",
     "text": [
      "sy= 0.9980458990248416\n"
     ]
    },
    {
     "data": {
      "image/png": "[encoded data removed]",
      "text/plain": [
       "<Figure size 432x288 with 1 Axes>"
      ]
     },
     "metadata": {},
     "output_type": "display_data"
    }
   ],
   "source": [
    "x=np.linspace(0.001,.1,1000)\n",
    "y=np.sin(x)*0+x**(.0005)\n",
    "fig = plt.figure()\n",
    "ax = fig.add_subplot(1,1,1)\n",
    "ax.plot(x,y)\n",
    "\n",
    "#subfigure legend\n",
    "ax.text(0.05, 0.95, \"(a)\", transform=ax.transAxes, va='top',\n",
    "                    bbox={'facecolor':'white', 'alpha':0.8, 'edgecolor':'.8', 'pad':5})\n",
    "\n",
    "#upright label\n",
    "xlim=(np.amin(x),np.amax(x))\n",
    "ylim=(np.amin(y),np.amax(y))\n",
    "ax.set_xlim(*xlim)\n",
    "ax.set_ylim(*ylim)\n",
    "\n",
    "sx= .02 #INPUT\n",
    "# print(x)\n",
    "sy= np.interp(sx, x, y) #REQUIRES INTERPLOATION\n",
    "print(\"sy=\",sy)\n",
    "ax.scatter(sx,sy)\n",
    "\n",
    "\n",
    "\n",
    "lx= np.interp(sx, xlim, (0, +1)) #NONDIM SX WITH XMIN AND XMAX\n",
    "ly= np.interp(sy, ylim, (0, +1)) #NONDIM SY WITH XMIN AND XMAX\n",
    "\n",
    "ax.text(lx, ly, \"1\", transform=ax.transAxes, ha='center',va='center',\n",
    "                    bbox={'facecolor':'white', 'alpha':0.5, 'edgecolor':'.8', 'pad':5})\n",
    "\n",
    "fig.canvas.draw();"
   ]
  },
  {
   "cell_type": "code",
   "execution_count": 116,
   "metadata": {},
   "outputs": [
    {
     "name": "stdout",
     "output_type": "stream",
     "text": [
      "sy= 0.9980458990248416\n",
      "36.9186384919\n"
     ]
    },
    {
     "data": {
      "image/png": "[encoded data removed]",
      "text/plain": [
       "<Figure size 432x288 with 1 Axes>"
      ]
     },
     "metadata": {},
     "output_type": "display_data"
    }
   ],
   "source": [
    "x=np.linspace(0.001,.1,1000)\n",
    "y=np.sin(x)*0+x**(.0005)\n",
    "fig = plt.figure()\n",
    "ax = fig.add_subplot(1,1,1)\n",
    "ax.plot(x,y)\n",
    "\n",
    "#subfigure legend\n",
    "ax.text(0.05, 0.95, \"(b)\", transform=ax.transAxes, va='top',\n",
    "                    bbox={'facecolor':'white', 'alpha':0.5, 'edgecolor':'.8', 'pad':5})\n",
    "\n",
    "#upright label\n",
    "xlim=(np.amin(x),np.amax(x))\n",
    "ylim=(np.amin(y),np.amax(y))\n",
    "ax.set_xlim(*xlim)\n",
    "ax.set_ylim(*ylim)\n",
    "\n",
    "sx= .02 #INPUT\n",
    "# print(x)\n",
    "sy= np.interp(sx, x, y) #REQUIRES INTERPLOATION\n",
    "print(\"sy=\",sy)\n",
    "ax.scatter(sx,sy)\n",
    "\n",
    "\n",
    "\n",
    "lx= np.interp(sx, xlim, (0, +1)) #NONDIM SX WITH XMIN AND XMAX\n",
    "ly= np.interp(sy, ylim, (0, +1)) #NONDIM SY WITH XMIN AND XMAX\n",
    "\n",
    "\n",
    "#dydx=tan(ang)\n",
    "#anf=atan(dydx) with y and x in nondim scale\n",
    "\n",
    "sxp=sx+(xlim[1]-xlim[0])/1000\n",
    "lxp= np.interp(sxp, xlim, (0, +1)) \n",
    "syp =  np.interp(sxp, x, y) \n",
    "lyp=np.interp(syp, ylim, (0, +1))\n",
    "dydx=(lyp-ly)/(lxp-lx)\n",
    "angle = np.arctan(dydx)*45#in deg\n",
    "print(angle)\n",
    "\n",
    "\n",
    "ax.text(lx, ly, r\"$T=273.15 \\; \\mathrm{K}$\", transform=ax.transAxes, ha='center',va='center', rotation=angle,\n",
    "                    bbox={'facecolor':'white', 'alpha':0.5, 'edgecolor':'.8', 'pad':5})\n",
    "\n",
    "fig.canvas.draw();"
   ]
  },
  {
   "cell_type": "code",
   "execution_count": 184,
   "metadata": {},
   "outputs": [],
   "source": [
    "def labelup(ax,x,y,sx):\n",
    "    #upright label\n",
    "    xlim=(np.amin(x),np.amax(x))\n",
    "    ylim=(np.amin(y),np.amax(y))\n",
    "    ax.set_xlim(*xlim)\n",
    "    ax.set_ylim(*ylim)\n",
    "\n",
    "    # print(x)\n",
    "    sy= np.interp(sx, x, y) #REQUIRES INTERPLOATION\n",
    "    print(\"sy=\",sy)\n",
    "    ax.scatter(sx,sy)\n",
    "\n",
    "\n",
    "\n",
    "    lx= np.interp(sx, xlim, (0, +1)) #NONDIM SX WITH XMIN AND XMAX\n",
    "    ly= np.interp(sy, ylim, (0, +1)) #NONDIM SY WITH XMIN AND XMAX\n",
    "\n",
    "    ax.text(lx, ly, \"1\", transform=ax.transAxes, ha='center',va='center',\n",
    "                        bbox={'facecolor':'white', 'alpha':0.5, 'edgecolor':'.8', 'pad':5})\n",
    "    return\n",
    "\n",
    "def labeltan(ax,xs,ys,labels,sxs,xlim=None,ylim=None):\n",
    "    if xlim is None:\n",
    "        xlim=(np.amin(xs[0]),np.amax(xs[0]))\n",
    "    if ylim is None:\n",
    "        ylim=(np.amin(ys[0]),np.amax(ys[0]))\n",
    "    ax.set_xlim(*xlim)\n",
    "    ax.set_ylim(*ylim)\n",
    "    \n",
    "    for x,y,label,sx in zip(xs,ys,labels,sxs):\n",
    "        # print(x)\n",
    "        sy= np.interp(sx, x, y) #REQUIRES INTERPLOATION\n",
    "        print(\"sy=\",sy)\n",
    "#         ax.scatter(sx,sy)\n",
    "\n",
    "\n",
    "\n",
    "        lx= np.interp(sx, xlim, (0, +1)) #NONDIM SX WITH XMIN AND XMAX\n",
    "        ly= np.interp(sy, ylim, (0, +1)) #NONDIM SY WITH XMIN AND XMAX\n",
    "\n",
    "\n",
    "        #dydx=tan(ang)\n",
    "        #anf=atan(dydx) with y and x in nondim scale\n",
    "\n",
    "        sxp=sx+(xlim[1]-xlim[0])/1000\n",
    "        lxp= np.interp(sxp, xlim, (0, +1)) \n",
    "        syp =  np.interp(sxp, x, y) \n",
    "        lyp=np.interp(syp, ylim, (0, +1))\n",
    "        dydx=(lyp-ly)/(lxp-lx)\n",
    "        angle = np.arctan(dydx)*45#in deg\n",
    "        print(angle)\n",
    "\n",
    "\n",
    "#         ax.text(lx, ly, label, transform=ax.transAxes, ha='center',va='center', rotation=angle,\n",
    "#                             bbox={'facecolor':'white', 'alpha':1, 'edgecolor':'.8', 'pad':5})    \n",
    "        ax.text(lx, ly, label, transform=ax.transAxes, ha='center',va='center', rotation=angle,\n",
    "                            bbox={'facecolor':'white', 'alpha':1, 'edgecolor':'1.', 'pad':0})  \n",
    "    return"
   ]
  },
  {
   "cell_type": "code",
   "execution_count": 185,
   "metadata": {},
   "outputs": [
    {
     "name": "stdout",
     "output_type": "stream",
     "text": [
      "sy= 0.9987682071904862\n",
      "0.0201218320234\n",
      "sy= 0.08489768270595942\n",
      "3.40800576733\n",
      "sy= 0.8840380196668499\n",
      "1.7801625535\n",
      "sy= 0.2915475832775624\n",
      "5.84236554165\n",
      "sy= 4.437067076818852e-06\n",
      "0.000896525833453\n"
     ]
    },
    {
     "data": {
      "image/png": "[encoded data removed]",
      "text/plain": [
       "<Figure size 283.465x425.197 with 1 Axes>"
      ]
     },
     "metadata": {},
     "output_type": "display_data"
    }
   ],
   "source": [
    "fig = plt.figure(figsize=(10/2.54,15/2.54))\n",
    "ax = fig.add_subplot(1,1,1)\n",
    "\n",
    "x=np.linspace(0.001,.1,1000)\n",
    "y1=x**(.0005)\n",
    "ax.plot(x,y1)\n",
    "y2=np.sin(x)\n",
    "ax.plot(x,y2)\n",
    "y3=x**(.05)\n",
    "ax.plot(x,y3)\n",
    "y4=x**(.5)\n",
    "ax.plot(x,y4)\n",
    "y5=x**(5)\n",
    "ax.plot(x,y5)\n",
    "\n",
    "labeltan(ax,[x,x,x,x,x],[y1,y2,y3,y4,y5],['hahaha','rsrsrsrs','kkkkkk','lwhnxkubcn','heuheuhuee'],5*[.085],ylim=(-.1,1.2))\n"
   ]
  },
  {
   "cell_type": "code",
   "execution_count": null,
   "metadata": {},
   "outputs": [],
   "source": []
  }
 ],
 "metadata": {
  "kernelspec": {
   "display_name": "Python [default]",
   "language": "python",
   "name": "python3"
  },
  "language_info": {
   "codemirror_mode": {
    "name": "ipython",
    "version": 3
   },
   "file_extension": ".py",
   "mimetype": "text/x-python",
   "name": "python",
   "nbconvert_exporter": "python",
   "pygments_lexer": "ipython3",
   "version": "3.6.3"
  }
 },
 "nbformat": 4,
 "nbformat_minor": 2
}
